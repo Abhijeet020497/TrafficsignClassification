{
 "cells": [
  {
   "cell_type": "code",
   "execution_count": 1,
   "id": "thermal-november",
   "metadata": {},
   "outputs": [
    {
     "name": "stdout",
     "output_type": "stream",
     "text": [
      "hi\n"
     ]
    }
   ],
   "source": [
    "import numpy as np\n",
    "import pickle\n",
    "from tensorflow.keras.models import load_model\n",
    "from keras.preprocessing import image \n"
   ]
  },
  {
   "cell_type": "code",
   "execution_count": 2,
   "id": "filled-blink",
   "metadata": {},
   "outputs": [
    {
     "name": "stdout",
     "output_type": "stream",
     "text": [
      "load model\n"
     ]
    }
   ],
   "source": [
    "# IMPORT THE  MODEL\n",
    "model=load_model('finalmodel.h5')\n",
    "print ('load model')"
   ]
  },
  {
   "cell_type": "code",
   "execution_count": 4,
   "id": "compatible-graph",
   "metadata": {},
   "outputs": [
    {
     "data": {
      "image/png": "[encoded data removed]",
      "text/plain": [
       "<PIL.Image.Image image mode=RGB size=64x64 at 0x19EEA0DB9A0>"
      ]
     },
     "execution_count": 4,
     "metadata": {},
     "output_type": "execute_result"
    }
   ],
   "source": [
    "t_img=image.load_img(r'D:/Abhijeet/code/OIP (2).jfif',target_size=(64,64,3))\n",
    "\n",
    "t_img\n"
   ]
  },
  {
   "cell_type": "code",
   "execution_count": 5,
   "id": "ultimate-bacteria",
   "metadata": {},
   "outputs": [
    {
     "name": "stdout",
     "output_type": "stream",
     "text": [
      "WARNING:tensorflow:From <ipython-input-5-8c5553f76f51>:5: Sequential.predict_classes (from tensorflow.python.keras.engine.sequential) is deprecated and will be removed after 2021-01-01.\n",
      "Instructions for updating:\n",
      "Please use instead:* `np.argmax(model.predict(x), axis=-1)`,   if your model does multi-class classification   (e.g. if it uses a `softmax` last-layer activation).* `(model.predict(x) > 0.5).astype(\"int32\")`,   if your model does binary classification   (e.g. if it uses a `sigmoid` last-layer activation).\n",
      "[1]\n"
     ]
    }
   ],
   "source": [
    "t_img=image.img_to_array(t_img)\n",
    "\n",
    "t_img=np.expand_dims(t_img,axis=0)\n",
    "\n",
    "print((model.predict_classes(t_img)))"
   ]
  },
  {
   "cell_type": "code",
   "execution_count": null,
   "id": "biblical-tracker",
   "metadata": {},
   "outputs": [],
   "source": [
    "\n"
   ]
  }
 ],
 "metadata": {
  "kernelspec": {
   "display_name": "Python 3",
   "language": "python",
   "name": "python3"
  },
  "language_info": {
   "codemirror_mode": {
    "name": "ipython",
    "version": 3
   },
   "file_extension": ".py",
   "mimetype": "text/x-python",
   "name": "python",
   "nbconvert_exporter": "python",
   "pygments_lexer": "ipython3",
   "version": "3.8.8"
  }
 },
 "nbformat": 4,
 "nbformat_minor": 5
}
